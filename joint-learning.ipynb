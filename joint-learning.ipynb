{
 "cells": [
  {
   "cell_type": "code",
   "execution_count": 1,
   "id": "66d1816d",
   "metadata": {},
   "outputs": [],
   "source": [
    "import pandas\n",
    "import re, json\n",
    "import csv\n",
    "\n",
    "import torch\n",
    "import torch.nn as nn\n",
    "from datasets import load_metric,Dataset,DatasetDict\n",
    "from transformers import AutoModelForSeq2SeqLM, DataCollatorForSeq2Seq, Seq2SeqTrainingArguments, Seq2SeqTrainer\n",
    "from transformers import AutoTokenizer\n",
    "\n",
    "import evaluate\n",
    "\n",
    "import numpy as np\n",
    "import nltk\n",
    "import os\n",
    "import random\n",
    "from sklearn.model_selection import train_test_split\n",
    "from typing import List, Optional, Tuple, Union, Dict, Any"
   ]
  },
  {
   "cell_type": "code",
   "execution_count": 2,
   "id": "2853ec12",
   "metadata": {},
   "outputs": [],
   "source": [
    "data = open('annotated_capstone_data.csv')"
   ]
  },
  {
   "cell_type": "code",
   "execution_count": 3,
   "id": "ee8e2f8d",
   "metadata": {},
   "outputs": [],
   "source": [
    "reader = csv.DictReader(data)\n",
    "myList = list()\n",
    "for dictionary in reader:\n",
    "    myList.append(dictionary)"
   ]
  },
  {
   "cell_type": "code",
   "execution_count": 4,
   "id": "714689ec",
   "metadata": {},
   "outputs": [],
   "source": [
    "dialogues = []\n",
    "gold_sum = []\n",
    "generated_sum = []\n",
    "hal_tags = []\n",
    "\n",
    "for entry in myList[:100]:\n",
    "    dialogues.append(entry['Dialogue'].strip())\n",
    "    gold_sum.append(entry['Reference Summary'].strip())\n",
    "    generated_sum.append(entry['Generated Summary'].strip())\n",
    "    hal_tags.append(entry['Annotations'].strip())"
   ]
  },
  {
   "cell_type": "code",
   "execution_count": 5,
   "id": "e514f98d",
   "metadata": {},
   "outputs": [],
   "source": [
    "train = Dataset.from_dict({'dialogue': dialogues, 'summary':generated_sum, 'tags':hal_tags})"
   ]
  },
  {
   "cell_type": "code",
   "execution_count": 6,
   "id": "f103613f",
   "metadata": {},
   "outputs": [],
   "source": [
    "raw_data = DatasetDict({'train':train})"
   ]
  },
  {
   "cell_type": "code",
   "execution_count": 7,
   "id": "38581099-7bd3-4b70-a18c-cb2113f907e5",
   "metadata": {},
   "outputs": [
    {
     "data": {
      "text/plain": [
       "DatasetDict({\n",
       "    train: Dataset({\n",
       "        features: ['dialogue', 'summary', 'tags'],\n",
       "        num_rows: 100\n",
       "    })\n",
       "})"
      ]
     },
     "execution_count": 7,
     "metadata": {},
     "output_type": "execute_result"
    }
   ],
   "source": [
    "raw_data"
   ]
  },
  {
   "cell_type": "code",
   "execution_count": 9,
   "id": "37aecab9-478b-4f77-b975-a7b3d0e8014b",
   "metadata": {},
   "outputs": [],
   "source": [
    "model_checkpoint = \"facebook/bart-large\""
   ]
  },
  {
   "cell_type": "code",
   "execution_count": 11,
   "id": "cc249f86-7815-4382-a0c1-b086894ac36a",
   "metadata": {},
   "outputs": [
    {
     "data": {
      "application/vnd.jupyter.widget-view+json": {
       "model_id": "e837903cd8f74f12bd6ad8a44dc5ee8e",
       "version_major": 2,
       "version_minor": 0
      },
      "text/plain": [
       "Downloading (…)lve/main/config.json:   0%|          | 0.00/1.63k [00:00<?, ?B/s]"
      ]
     },
     "metadata": {},
     "output_type": "display_data"
    },
    {
     "data": {
      "application/vnd.jupyter.widget-view+json": {
       "model_id": "57c0934a07964a4e8c83ac1c50839cb2",
       "version_major": 2,
       "version_minor": 0
      },
      "text/plain": [
       "Downloading pytorch_model.bin:   0%|          | 0.00/1.02G [00:00<?, ?B/s]"
      ]
     },
     "metadata": {},
     "output_type": "display_data"
    },
    {
     "data": {
      "application/vnd.jupyter.widget-view+json": {
       "model_id": "b85a248e4c0b4d83bccf978662789581",
       "version_major": 2,
       "version_minor": 0
      },
      "text/plain": [
       "Downloading (…)okenizer_config.json:   0%|          | 0.00/26.0 [00:00<?, ?B/s]"
      ]
     },
     "metadata": {},
     "output_type": "display_data"
    },
    {
     "data": {
      "application/vnd.jupyter.widget-view+json": {
       "model_id": "9f0b5398cba044ba8ede0a04621ed06c",
       "version_major": 2,
       "version_minor": 0
      },
      "text/plain": [
       "Downloading (…)olve/main/vocab.json:   0%|          | 0.00/899k [00:00<?, ?B/s]"
      ]
     },
     "metadata": {},
     "output_type": "display_data"
    },
    {
     "data": {
      "application/vnd.jupyter.widget-view+json": {
       "model_id": "ea10b3c32fa1448e8b8fdf4385000aee",
       "version_major": 2,
       "version_minor": 0
      },
      "text/plain": [
       "Downloading (…)olve/main/merges.txt:   0%|          | 0.00/456k [00:00<?, ?B/s]"
      ]
     },
     "metadata": {},
     "output_type": "display_data"
    },
    {
     "data": {
      "application/vnd.jupyter.widget-view+json": {
       "model_id": "aac790c05db94baeb3a9ae2c9bd26c0b",
       "version_major": 2,
       "version_minor": 0
      },
      "text/plain": [
       "Downloading (…)/main/tokenizer.json:   0%|          | 0.00/1.36M [00:00<?, ?B/s]"
      ]
     },
     "metadata": {},
     "output_type": "display_data"
    }
   ],
   "source": [
    "model = AutoModelForSeq2SeqLM.from_pretrained(model_checkpoint)\n",
    "tokenizer = AutoTokenizer.from_pretrained(model_checkpoint)"
   ]
  },
  {
   "cell_type": "code",
   "execution_count": 18,
   "id": "b579cfe1-ae90-4d0d-a5c2-3cfa64fe91f8",
   "metadata": {},
   "outputs": [],
   "source": [
    " with tokenizer.as_target_tokenizer():\n",
    "     labels = tokenizer(generated_sum[0], max_length=128, truncation=True)"
   ]
  },
  {
   "cell_type": "code",
   "execution_count": 23,
   "id": "6f9be415-80b8-4f93-8bab-51415b874cca",
   "metadata": {},
   "outputs": [
    {
     "data": {
      "text/plain": [
       "\"doesn't have Betty's number. Amanda suggests Hannah to ask Larry.\""
      ]
     },
     "execution_count": 23,
     "metadata": {},
     "output_type": "execute_result"
    }
   ],
   "source": [
    "generated_sum[0]"
   ]
  },
  {
   "cell_type": "code",
   "execution_count": 15,
   "id": "ab8598f8-16ff-4966-83e4-f57865e46098",
   "metadata": {},
   "outputs": [
    {
     "data": {
      "text/plain": [
       "{'input_ids': [0, 34318, 75, 33, 16666, 18, 346, 4, 10641, 3649, 11029, 7, 1394, 6045, 4, 2], 'attention_mask': [1, 1, 1, 1, 1, 1, 1, 1, 1, 1, 1, 1, 1, 1, 1, 1]}"
      ]
     },
     "execution_count": 15,
     "metadata": {},
     "output_type": "execute_result"
    }
   ],
   "source": [
    "labels"
   ]
  },
  {
   "cell_type": "code",
   "execution_count": 25,
   "id": "fc7bbfa6-0416-4510-a069-968c8cc55cb1",
   "metadata": {},
   "outputs": [
    {
     "data": {
      "text/plain": [
       "'.'"
      ]
     },
     "execution_count": 25,
     "metadata": {},
     "output_type": "execute_result"
    }
   ],
   "source": [
    "tokenizer.decode(labels['input_ids'][-2])"
   ]
  },
  {
   "cell_type": "code",
   "execution_count": null,
   "id": "d21bc271-dfb8-403b-a9ab-1f758915eb3e",
   "metadata": {},
   "outputs": [],
   "source": []
  }
 ],
 "metadata": {
  "kernelspec": {
   "display_name": "Python 3 (ipykernel)",
   "language": "python",
   "name": "python3"
  },
  "language_info": {
   "codemirror_mode": {
    "name": "ipython",
    "version": 3
   },
   "file_extension": ".py",
   "mimetype": "text/x-python",
   "name": "python",
   "nbconvert_exporter": "python",
   "pygments_lexer": "ipython3",
   "version": "3.9.18"
  }
 },
 "nbformat": 4,
 "nbformat_minor": 5
}
